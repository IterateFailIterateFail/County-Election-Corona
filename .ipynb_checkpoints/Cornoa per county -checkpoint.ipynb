{
 "cells": [
  {
   "cell_type": "code",
   "execution_count": null,
   "metadata": {},
   "outputs": [],
   "source": [
    "import pandas as pd\n",
    "import numpy as np\n",
    "import xgboost as xgb\n",
    "import re\n",
    "import seaborn as sns\n",
    "import matplotlib.pyplot as plt\n",
    "from scipy import stats\n",
    "from scipy.stats import norm\n",
    "from sklearn.model_selection import train_test_split\n",
    "from sklearn.metrics import mean_squared_error, classification_report\n",
    "from sklearn.preprocessing import StandardScaler\n",
    "%matplotlib inline\n",
    "from sklearn.linear_model import LassoCV ,LinearRegression , Ridge\n",
    "from sklearn.model_selection import cross_val_score\n",
    "from statistics import mean "
   ]
  },
  {
   "cell_type": "code",
   "execution_count": null,
   "metadata": {},
   "outputs": [],
   "source": [
    "#Election data from https://github.com/tonmcg/US_County_Level_Election_Results_08-16\n",
    "election_csv = pd.read_csv(\"2016_US_County_Level_Presidential_Results.csv\")\n",
    "#Corna virus data from 1/7/2020 https://usafacts.org/visualizations/coronavirus-covid-19-spread-map/\n",
    "pop_csv = pd.read_csv(\"covid_county_population_usafacts.csv\")\n",
    "case_csv = pd.read_csv(\"covid_confirmed_usafacts.csv\")\n"
   ]
  }
 ],
 "metadata": {
  "kernelspec": {
   "display_name": "Python 3",
   "language": "python",
   "name": "python3"
  },
  "language_info": {
   "codemirror_mode": {
    "name": "ipython",
    "version": 3
   },
   "file_extension": ".py",
   "mimetype": "text/x-python",
   "name": "python",
   "nbconvert_exporter": "python",
   "pygments_lexer": "ipython3",
   "version": "3.8.2"
  }
 },
 "nbformat": 4,
 "nbformat_minor": 4
}
